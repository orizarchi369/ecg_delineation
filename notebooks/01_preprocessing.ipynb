{
 "cells": [
  {
   "cell_type": "code",
   "execution_count": 1,
   "id": "aba7f823",
   "metadata": {},
   "outputs": [],
   "source": [
    "# 1 - Imports & Setup\n",
    "\n",
    "import os\n",
    "import numpy as np\n",
    "import pandas as pd\n",
    "from pathlib import Path\n",
    "from tqdm import tqdm\n",
    "\n",
    "# Directories\n",
    "DATA_DIR_CSV = Path(\"/mnt/c/Users/orizarchi/Desktop/Courses/Resting_ECG_Dataset/dat_csv\")\n",
    "DATA_DIR_ANN = Path(\"/mnt/c/Users/orizarchi/Desktop/Courses/Resting_ECG_Dataset/ann_txt\")\n",
    "OUT_DIR = Path(\"~/projects/ecg_delineation/data/processed/segments_all\").expanduser()\n",
    "OUT_DIR.mkdir(parents=True, exist_ok=True)\n",
    "\n",
    "# Parameters\n",
    "FS = 500\n",
    "SEG_LEFT = 193\n",
    "SEG_RIGHT = 318\n",
    "SEG_LEN = SEG_LEFT + 1 + SEG_RIGHT\n"
   ]
  },
  {
   "cell_type": "code",
   "execution_count": 5,
   "id": "5bf60832",
   "metadata": {},
   "outputs": [],
   "source": [
    "# 2 – Helper functions\n",
    "\n",
    "def load_signal(record_id):\n",
    "    \"\"\"Load 12-lead ECG [12, N].\"\"\"\n",
    "    sig_path = DATA_DIR_CSV / f\"{record_id}.csv\"\n",
    "    return pd.read_csv(sig_path, header=None).values.T\n",
    "\n",
    "def load_annotations(record_id, lead_suffix):\n",
    "    path = DATA_DIR_ANN / f\"{record_id}.{lead_suffix}.txt\"\n",
    "    if not path.exists():\n",
    "        return None\n",
    "    anno = pd.read_csv(\n",
    "        path, skiprows=1, header=None,\n",
    "        names=[\"type\", \"start\", \"end\"]\n",
    "    )\n",
    "    anno = anno.dropna()\n",
    "    anno[\"type\"] = anno[\"type\"].astype(int)\n",
    "    anno[\"start\"] = anno[\"start\"].astype(int)\n",
    "    anno[\"end\"] = anno[\"end\"].astype(int)\n",
    "    return anno\n",
    "\n",
    "\n",
    "def segment_around_qrs(sig, anno):\n",
    "    \"\"\"Return (segments, labels) lists for one lead.\"\"\"\n",
    "    segments, labels = [], []\n",
    "    qrs = anno[anno[\"type\"] == 1]\n",
    "\n",
    "    for _, row in qrs.iterrows():\n",
    "        center = (row[\"start\"] + row[\"end\"]) // 2\n",
    "        start = center - SEG_LEFT\n",
    "        end = center + SEG_RIGHT\n",
    "\n",
    "        pad_left = max(0, -start)\n",
    "        pad_right = max(0, end - (len(sig) - 1))\n",
    "        start_clipped = max(0, start)\n",
    "        end_clipped = min(len(sig) - 1, end)\n",
    "\n",
    "        seg = np.zeros(SEG_LEN, dtype=np.float32)\n",
    "        seg[pad_left:SEG_LEN-pad_right] = sig[start_clipped:end_clipped+1]\n",
    "\n",
    "        label = np.full(SEG_LEN, 3, dtype=np.int64)  # 3 = background\n",
    "        for _, wave in anno.iterrows():\n",
    "            w_start = wave[\"start\"] - start\n",
    "            w_end = wave[\"end\"] - start\n",
    "            w_start = max(0, w_start)\n",
    "            w_end = min(SEG_LEN-1, w_end)\n",
    "            if w_end >= 0 and w_start < SEG_LEN:\n",
    "                label[w_start:w_end+1] = wave[\"type\"]\n",
    "\n",
    "        segments.append(seg)\n",
    "        labels.append(label)\n",
    "\n",
    "    return segments, labels"
   ]
  },
  {
   "cell_type": "code",
   "execution_count": null,
   "id": "74ffbd86",
   "metadata": {},
   "outputs": [
    {
     "name": "stderr",
     "output_type": "stream",
     "text": [
      "Processing records:   0%|          | 0/2399 [00:00<?, ?it/s]"
     ]
    },
    {
     "name": "stderr",
     "output_type": "stream",
     "text": [
      "Processing records: 100%|██████████| 2399/2399 [11:12<00:00,  3.57it/s]\n"
     ]
    }
   ],
   "source": [
    "# 3 – Process everything\n",
    "\n",
    "lead_suffixes = {\n",
    "    \"I\":\"i\", \"II\":\"ii\", \"III\":\"iii\",\n",
    "    \"aVR\":\"avr\", \"aVL\":\"avl\", \"aVF\":\"avf\",\n",
    "    \"V1\":\"v1\", \"V2\":\"v2\", \"V3\":\"v3\",\n",
    "    \"V4\":\"v4\", \"V5\":\"v5\", \"V6\":\"v6\"\n",
    "}\n",
    "\n",
    "all_records = [f.stem for f in DATA_DIR_CSV.glob(\"*.csv\")]\n",
    "\n",
    "for record_id in tqdm(all_records, desc=\"Processing records\"):\n",
    "    sig = load_signal(record_id)\n",
    "    all_segments, all_labels = [], []\n",
    "\n",
    "    for idx, (lead, suffix) in enumerate(lead_suffixes.items()):\n",
    "        anno = load_annotations(record_id, suffix)\n",
    "        if anno is None: \n",
    "            continue\n",
    "        segments, labels = segment_around_qrs(sig[idx], anno)\n",
    "        if segments:\n",
    "            all_segments.extend(segments)\n",
    "            all_labels.extend(labels)\n",
    "\n",
    "    if all_segments:\n",
    "        np.savez_compressed(\n",
    "            OUT_DIR / f\"{record_id}.npz\",\n",
    "            segments=np.array(all_segments, dtype=np.float32),\n",
    "            labels=np.array(all_labels, dtype=np.int64)\n",
    "        )\n"
   ]
  },
  {
   "cell_type": "code",
   "execution_count": 8,
   "id": "5a9e9fe3",
   "metadata": {},
   "outputs": [
    {
     "name": "stdout",
     "output_type": "stream",
     "text": [
      "File: SI0296.npz\n",
      "Segments shape: (144, 512)\n",
      "Labels shape: (144, 512)\n"
     ]
    }
   ],
   "source": [
    "# 4 - Sanity check, load one file and print shapes\n",
    "\n",
    "sample_file = next(OUT_DIR.glob(\"*.npz\"))\n",
    "data = np.load(sample_file)\n",
    "print(\"File:\", sample_file.name)\n",
    "print(\"Segments shape:\", data[\"segments\"].shape)\n",
    "print(\"Labels shape:\", data[\"labels\"].shape)\n"
   ]
  }
 ],
 "metadata": {
  "kernelspec": {
   "display_name": "ecgproject",
   "language": "python",
   "name": "python3"
  },
  "language_info": {
   "codemirror_mode": {
    "name": "ipython",
    "version": 3
   },
   "file_extension": ".py",
   "mimetype": "text/x-python",
   "name": "python",
   "nbconvert_exporter": "python",
   "pygments_lexer": "ipython3",
   "version": "3.11.13"
  }
 },
 "nbformat": 4,
 "nbformat_minor": 5
}
